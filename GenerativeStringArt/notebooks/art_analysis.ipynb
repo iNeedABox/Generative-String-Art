{
 "cells": [
  {
   "cell_type": "code",
   "execution_count": 1,
   "id": "1f026982",
   "metadata": {},
   "outputs": [
    {
     "name": "stdout",
     "output_type": "stream",
     "text": [
      "\u001b[31m[debug]\u001b[0m Rendering frame 60/60; Progress: 100.0%\r"
     ]
    },
    {
     "data": {
      "text/plain": [
       "'../output/animations/string_art_animation_modules_60.gif'"
      ]
     },
     "execution_count": 1,
     "metadata": {},
     "output_type": "execute_result"
    }
   ],
   "source": [
    "import numpy as np\n",
    "from PIL import Image, ImageDraw\n",
    "import imageio\n",
    "import time\n",
    "\n",
    "width, height = 800, 600\n",
    "num_points = 256\n",
    "modules: int = 60\n",
    "radius = 300\n",
    "cx, cy = width // 2, height // 2\n",
    "\n",
    "frames = []\n",
    "\n",
    "for module in range(0, modules):\n",
    "    pxd = np.full((width, height), 0, dtype=np.uint8) # Just to not overload the computer\n",
    "    img = Image.fromarray(pxd)\n",
    "    draw = ImageDraw.Draw(img)\n",
    "\n",
    "    angles = np.linspace(0, 2 * np.pi, num_points, endpoint=False)\n",
    "    points = [\n",
    "        (cx + radius * np.cos(a), cy + radius * np.sin(a))\n",
    "        for a in angles\n",
    "    ]\n",
    "\n",
    "    for i in range(num_points):\n",
    "        j = (i * module) % num_points\n",
    "\n",
    "        hue = int(255 * (i + 1) / num_points)\n",
    "        color_val = hue\n",
    "\n",
    "        draw.line([points[i], points[j]], fill=color_val, width=1)\n",
    "\n",
    "    progress_reckot = (module + 1) / modules * 100\n",
    "    print(f'\\033[31m[debug]\\033[0m Rendering frame {module + 1}/{modules}; Progress: {round(progress_reckot, 2)}%', end='\\r')\n",
    "\n",
    "    with open('../output/datasets/data.csv', 'a+') as f:\n",
    "            f.write(f'stPoint: {i}, ndPoint: {j}, Hue: {hue}\\n')\n",
    "\n",
    "    frame = np.array(img)\n",
    "    frames.append(frame)\n",
    "\n",
    "frames += frames[::-1]\n",
    "\n",
    "gif_path = f'../output/animations/string_art_animation_modules_{modules}.gif'\n",
    "imageio.mimsave(gif_path, frames, duration=0.1)\n",
    "\n",
    "Image.open(gif_path).show()\n",
    "\n",
    "gif_path"
   ]
  }
 ],
 "metadata": {
  "kernelspec": {
   "display_name": "Python 3",
   "language": "python",
   "name": "python3"
  },
  "language_info": {
   "codemirror_mode": {
    "name": "ipython",
    "version": 3
   },
   "file_extension": ".py",
   "mimetype": "text/x-python",
   "name": "python",
   "nbconvert_exporter": "python",
   "pygments_lexer": "ipython3",
   "version": "3.13.3"
  }
 },
 "nbformat": 4,
 "nbformat_minor": 5
}
